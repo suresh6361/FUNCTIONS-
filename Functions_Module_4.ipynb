{
  "nbformat": 4,
  "nbformat_minor": 0,
  "metadata": {
    "colab": {
      "provenance": []
    },
    "kernelspec": {
      "name": "python3",
      "display_name": "Python 3"
    },
    "language_info": {
      "name": "python"
    }
  },
  "cells": [
    {
      "cell_type": "markdown",
      "source": [
        "# Functions"
      ],
      "metadata": {
        "id": "cUHqI8g-PgVb"
      }
    },
    {
      "cell_type": "code",
      "source": [
        "THEORY\n",
        "#1. WHAT IS THE DIFFERENCE BETWEEN A FUNCTION AND A METHOD IN PYTHON?\n",
        "In Python, functions and methods are both used to perform operations, but they differ mainly in how they are defined and used:\n",
        "\n",
        "1. Function\n",
        "A function is a block of code that is defined using the def keyword.\n",
        "\n",
        "It is not tied to a specific object.\n",
        "\n",
        "You can call a function independently.\n",
        "\n",
        "#2. EXPLAIN THE CONCEPT OF FUNCTION ARGUMENTS AND PARAMETERS IN PYTHON?\n",
        "In Python, function arguments and parameters are closely related but refer to slightly different things:\n",
        "Parameters: The names used in a function definition.\n",
        "\n",
        "Arguments: The actual values you pass to the function when calling it.\n",
        "\n",
        "#3. WHAT ARE THE DIFERENT WAYS TO DEFINE AND CALL A FUNCTION IN PYTHON?\n",
        "In Python, functions can be defined and called in multiple ways depending on the use case. Here's a breakdown of the different ways:\n",
        "    Defining Functions\n",
        "    a) Standard Function Definition\n",
        "    b) Function with Default Arguments\n",
        "    c) Function with Variable-Length Arguments\n",
        "    d) Lambda Function (Anonymous Function)\n",
        "    e) Function Inside a Function (Nested Functions)\n",
        "\n",
        "#4. what is the purpose of the 'return' statement in a python function?\n",
        "The return statement in a Python function is used to:\n",
        "\n",
        "1. Send a result back to the caller\n",
        "2. Exit the function early\n",
        "3. Return multiple values (as a tuple)\n",
        "4. Without a return = returns None\n",
        "\n",
        "#5. what are iterators in python and how do they differ from iterables?\n",
        "In Python, iterables and iterators are fundamental to looping and working with sequences like lists, tuples, and more. They’re closely related but have important differences:\n",
        "1. Iterable\n",
        "      An iterable is any object you can loop over (e.g., using for loop).\n",
        "      It implements the __iter__() method, which returns an iterator.\n",
        "      Examples: list, tuple, str, set, dict, etc.\n",
        "2. Iterator\n",
        "      An iterator is an object that keeps state and knows how to get the next item in the sequence.\n",
        "      It implements two methods:\n",
        "          __iter__() — returns the iterator object itself.\n",
        "          __next__() — returns the next item or raises StopIteration if done.\n",
        "\n",
        "#6. explain the concept of generators in python and how they are defined.\n",
        "In Python, generators are a special type of iterator that allow you to generate values on the fly, instead of storing them all in memory at once.\n",
        "\n",
        "They are used for lazy evaluation, meaning they generate each value only when needed. This makes them memory-efficient and ideal for large data processing.\n",
        "\n",
        "#7. what are the advantage of using generators over regular functions?\n",
        "Generators in Python offer several key advantages over regular functions, especially when dealing with large data or streams. Here's a breakdown:\n",
        "Advantages of Using Generators Over Regular Functions:\n",
        "1. Memory Efficiency\n",
        "2. Lazy Evaluation\n",
        "3. Improved Performance for Iteration\n",
        "4. State Retention Without Complexity\n",
        "5. Cleaner Syntax for Iterators\n",
        "6. Support for Infinite Sequences\n",
        "\n",
        "#8. what is a lambda function in python and when is it typically used?\n",
        "A lambda function in Python is a small, anonymous function defined using the lambda keyword. It's a way to write quick, simple functions in a single line.\n",
        "Typical Use Cases:\n",
        "Lambda functions are commonly used in situations where you need a small function temporarily, often as an argument to another function:\n",
        "1. With map()\n",
        "2. With filter()\n",
        "3. With sorted()\n",
        "4. In GUI Programming or Callbacks\n",
        "\n",
        "#9. what is the difference between 'map()','reduce()', and 'filter()' functions in python?\n",
        "The Python functions map(), reduce(), and filter() all serve different purposes but are part of the functional programming toolkit. Here’s a clear comparison:\n",
        "map()\n",
        "Transform each item\n",
        "Function that returns a new value\n",
        "Iterator of same length\n",
        "Returns\tmap object\n",
        "Built-in\n",
        "\n",
        "filter()\n",
        "Select items that match a condition\n",
        "Boolean function (returns True/False)\n",
        "Iterator of fewer or equal it\n",
        "filter object\n",
        "Built-in\n",
        "\n",
        "reduce()\n",
        "Combine items into a single value\n",
        "Binary function (takes two arguments)\n",
        "Single final value\n",
        "Final result (not iterator)\n",
        "From functools module\n",
        "\n",
        "#10.explain the purpose and usage of the 'map()' function in python.\n",
        "The map() function in Python is used to apply a function to every item in an iterable (like a list or tuple) and return a new iterator with the results.\n",
        " Purpose of map():\n",
        "      To transform or modify items in an iterable without writing a loop.\n",
        "      Commonly used with lambda functions for concise one-liners.\n",
        "\n"
      ],
      "metadata": {
        "id": "P-nhlLJxhsaQ"
      },
      "execution_count": null,
      "outputs": []
    },
    {
      "cell_type": "code",
      "source": [
        "#11. using pen and paper write the internal mechanism for sum operation using reduce function on this given list:[47,11,42,13];\n",
        "\n",
        "reduce(lambda x, y: x + y, [47, 11, 42, 13])\n",
        "→ (((47 + 11) + 42) + 13)\n",
        "→ ((58 + 42) + 13)\n",
        "→ (100 + 13)\n",
        "→ 113\n",
        "\n",
        "from google.colab import files\n",
        "uploaded=files.upload()\n",
        "print(upload)\n",
        "\n"
      ],
      "metadata": {
        "colab": {
          "base_uri": "https://localhost:8080/",
          "height": 249
        },
        "id": "K7MTBObOuVOL",
        "outputId": "073e21fb-0357-49e7-8699-857b5b844bcd"
      },
      "execution_count": 5,
      "outputs": [
        {
          "output_type": "display_data",
          "data": {
            "text/plain": [
              "<IPython.core.display.HTML object>"
            ],
            "text/html": [
              "\n",
              "     <input type=\"file\" id=\"files-6bfe34d9-bb10-430b-9fb9-082fa130fb89\" name=\"files[]\" multiple disabled\n",
              "        style=\"border:none\" />\n",
              "     <output id=\"result-6bfe34d9-bb10-430b-9fb9-082fa130fb89\">\n",
              "      Upload widget is only available when the cell has been executed in the\n",
              "      current browser session. Please rerun this cell to enable.\n",
              "      </output>\n",
              "      <script>// Copyright 2017 Google LLC\n",
              "//\n",
              "// Licensed under the Apache License, Version 2.0 (the \"License\");\n",
              "// you may not use this file except in compliance with the License.\n",
              "// You may obtain a copy of the License at\n",
              "//\n",
              "//      http://www.apache.org/licenses/LICENSE-2.0\n",
              "//\n",
              "// Unless required by applicable law or agreed to in writing, software\n",
              "// distributed under the License is distributed on an \"AS IS\" BASIS,\n",
              "// WITHOUT WARRANTIES OR CONDITIONS OF ANY KIND, either express or implied.\n",
              "// See the License for the specific language governing permissions and\n",
              "// limitations under the License.\n",
              "\n",
              "/**\n",
              " * @fileoverview Helpers for google.colab Python module.\n",
              " */\n",
              "(function(scope) {\n",
              "function span(text, styleAttributes = {}) {\n",
              "  const element = document.createElement('span');\n",
              "  element.textContent = text;\n",
              "  for (const key of Object.keys(styleAttributes)) {\n",
              "    element.style[key] = styleAttributes[key];\n",
              "  }\n",
              "  return element;\n",
              "}\n",
              "\n",
              "// Max number of bytes which will be uploaded at a time.\n",
              "const MAX_PAYLOAD_SIZE = 100 * 1024;\n",
              "\n",
              "function _uploadFiles(inputId, outputId) {\n",
              "  const steps = uploadFilesStep(inputId, outputId);\n",
              "  const outputElement = document.getElementById(outputId);\n",
              "  // Cache steps on the outputElement to make it available for the next call\n",
              "  // to uploadFilesContinue from Python.\n",
              "  outputElement.steps = steps;\n",
              "\n",
              "  return _uploadFilesContinue(outputId);\n",
              "}\n",
              "\n",
              "// This is roughly an async generator (not supported in the browser yet),\n",
              "// where there are multiple asynchronous steps and the Python side is going\n",
              "// to poll for completion of each step.\n",
              "// This uses a Promise to block the python side on completion of each step,\n",
              "// then passes the result of the previous step as the input to the next step.\n",
              "function _uploadFilesContinue(outputId) {\n",
              "  const outputElement = document.getElementById(outputId);\n",
              "  const steps = outputElement.steps;\n",
              "\n",
              "  const next = steps.next(outputElement.lastPromiseValue);\n",
              "  return Promise.resolve(next.value.promise).then((value) => {\n",
              "    // Cache the last promise value to make it available to the next\n",
              "    // step of the generator.\n",
              "    outputElement.lastPromiseValue = value;\n",
              "    return next.value.response;\n",
              "  });\n",
              "}\n",
              "\n",
              "/**\n",
              " * Generator function which is called between each async step of the upload\n",
              " * process.\n",
              " * @param {string} inputId Element ID of the input file picker element.\n",
              " * @param {string} outputId Element ID of the output display.\n",
              " * @return {!Iterable<!Object>} Iterable of next steps.\n",
              " */\n",
              "function* uploadFilesStep(inputId, outputId) {\n",
              "  const inputElement = document.getElementById(inputId);\n",
              "  inputElement.disabled = false;\n",
              "\n",
              "  const outputElement = document.getElementById(outputId);\n",
              "  outputElement.innerHTML = '';\n",
              "\n",
              "  const pickedPromise = new Promise((resolve) => {\n",
              "    inputElement.addEventListener('change', (e) => {\n",
              "      resolve(e.target.files);\n",
              "    });\n",
              "  });\n",
              "\n",
              "  const cancel = document.createElement('button');\n",
              "  inputElement.parentElement.appendChild(cancel);\n",
              "  cancel.textContent = 'Cancel upload';\n",
              "  const cancelPromise = new Promise((resolve) => {\n",
              "    cancel.onclick = () => {\n",
              "      resolve(null);\n",
              "    };\n",
              "  });\n",
              "\n",
              "  // Wait for the user to pick the files.\n",
              "  const files = yield {\n",
              "    promise: Promise.race([pickedPromise, cancelPromise]),\n",
              "    response: {\n",
              "      action: 'starting',\n",
              "    }\n",
              "  };\n",
              "\n",
              "  cancel.remove();\n",
              "\n",
              "  // Disable the input element since further picks are not allowed.\n",
              "  inputElement.disabled = true;\n",
              "\n",
              "  if (!files) {\n",
              "    return {\n",
              "      response: {\n",
              "        action: 'complete',\n",
              "      }\n",
              "    };\n",
              "  }\n",
              "\n",
              "  for (const file of files) {\n",
              "    const li = document.createElement('li');\n",
              "    li.append(span(file.name, {fontWeight: 'bold'}));\n",
              "    li.append(span(\n",
              "        `(${file.type || 'n/a'}) - ${file.size} bytes, ` +\n",
              "        `last modified: ${\n",
              "            file.lastModifiedDate ? file.lastModifiedDate.toLocaleDateString() :\n",
              "                                    'n/a'} - `));\n",
              "    const percent = span('0% done');\n",
              "    li.appendChild(percent);\n",
              "\n",
              "    outputElement.appendChild(li);\n",
              "\n",
              "    const fileDataPromise = new Promise((resolve) => {\n",
              "      const reader = new FileReader();\n",
              "      reader.onload = (e) => {\n",
              "        resolve(e.target.result);\n",
              "      };\n",
              "      reader.readAsArrayBuffer(file);\n",
              "    });\n",
              "    // Wait for the data to be ready.\n",
              "    let fileData = yield {\n",
              "      promise: fileDataPromise,\n",
              "      response: {\n",
              "        action: 'continue',\n",
              "      }\n",
              "    };\n",
              "\n",
              "    // Use a chunked sending to avoid message size limits. See b/62115660.\n",
              "    let position = 0;\n",
              "    do {\n",
              "      const length = Math.min(fileData.byteLength - position, MAX_PAYLOAD_SIZE);\n",
              "      const chunk = new Uint8Array(fileData, position, length);\n",
              "      position += length;\n",
              "\n",
              "      const base64 = btoa(String.fromCharCode.apply(null, chunk));\n",
              "      yield {\n",
              "        response: {\n",
              "          action: 'append',\n",
              "          file: file.name,\n",
              "          data: base64,\n",
              "        },\n",
              "      };\n",
              "\n",
              "      let percentDone = fileData.byteLength === 0 ?\n",
              "          100 :\n",
              "          Math.round((position / fileData.byteLength) * 100);\n",
              "      percent.textContent = `${percentDone}% done`;\n",
              "\n",
              "    } while (position < fileData.byteLength);\n",
              "  }\n",
              "\n",
              "  // All done.\n",
              "  yield {\n",
              "    response: {\n",
              "      action: 'complete',\n",
              "    }\n",
              "  };\n",
              "}\n",
              "\n",
              "scope.google = scope.google || {};\n",
              "scope.google.colab = scope.google.colab || {};\n",
              "scope.google.colab._files = {\n",
              "  _uploadFiles,\n",
              "  _uploadFilesContinue,\n",
              "};\n",
              "})(self);\n",
              "</script> "
            ]
          },
          "metadata": {}
        },
        {
          "output_type": "stream",
          "name": "stdout",
          "text": [
            "Saving IMG20250523160331.jpg to IMG20250523160331.jpg\n"
          ]
        },
        {
          "output_type": "error",
          "ename": "NameError",
          "evalue": "name 'upload' is not defined",
          "traceback": [
            "\u001b[0;31m---------------------------------------------------------------------------\u001b[0m",
            "\u001b[0;31mNameError\u001b[0m                                 Traceback (most recent call last)",
            "\u001b[0;32m<ipython-input-5-afee45e0a0fb>\u001b[0m in \u001b[0;36m<cell line: 0>\u001b[0;34m()\u001b[0m\n\u001b[1;32m      3\u001b[0m \u001b[0;32mfrom\u001b[0m \u001b[0mgoogle\u001b[0m\u001b[0;34m.\u001b[0m\u001b[0mcolab\u001b[0m \u001b[0;32mimport\u001b[0m \u001b[0mfiles\u001b[0m\u001b[0;34m\u001b[0m\u001b[0;34m\u001b[0m\u001b[0m\n\u001b[1;32m      4\u001b[0m \u001b[0muploaded\u001b[0m\u001b[0;34m=\u001b[0m\u001b[0mfiles\u001b[0m\u001b[0;34m.\u001b[0m\u001b[0mupload\u001b[0m\u001b[0;34m(\u001b[0m\u001b[0;34m)\u001b[0m\u001b[0;34m\u001b[0m\u001b[0;34m\u001b[0m\u001b[0m\n\u001b[0;32m----> 5\u001b[0;31m \u001b[0mprint\u001b[0m\u001b[0;34m(\u001b[0m\u001b[0mupload\u001b[0m\u001b[0;34m)\u001b[0m\u001b[0;34m\u001b[0m\u001b[0;34m\u001b[0m\u001b[0m\n\u001b[0m\u001b[1;32m      6\u001b[0m \u001b[0;34m\u001b[0m\u001b[0m\n",
            "\u001b[0;31mNameError\u001b[0m: name 'upload' is not defined"
          ]
        }
      ]
    },
    {
      "cell_type": "markdown",
      "source": [
        "1)  Write a Python function that takes a list of numbers as input and returns the sum of all even numbers in\n",
        "the list."
      ],
      "metadata": {
        "id": "r9FHovvZQckV"
      }
    },
    {
      "cell_type": "code",
      "source": [
        "def sum_of_even_numbers(numbers):\n",
        "  return sum(num for num in numbers if num % 2 == 0)"
      ],
      "metadata": {
        "id": "SBcCnbp3UzYk"
      },
      "execution_count": null,
      "outputs": []
    },
    {
      "cell_type": "code",
      "source": [
        "sum_of_even_numbers([1,2,3,4,5,6,7,8,9])"
      ],
      "metadata": {
        "colab": {
          "base_uri": "https://localhost:8080/"
        },
        "id": "0bpP93GfVL_f",
        "outputId": "14ee9e21-8741-4f64-be8b-a53176a0e412"
      },
      "execution_count": null,
      "outputs": [
        {
          "output_type": "execute_result",
          "data": {
            "text/plain": [
              "20"
            ]
          },
          "metadata": {},
          "execution_count": 27
        }
      ]
    },
    {
      "cell_type": "markdown",
      "source": [
        "2) Create a Python function that accepts a string and returns the reverse of that string.\n"
      ],
      "metadata": {
        "id": "xPvW6jGWVREd"
      }
    },
    {
      "cell_type": "code",
      "source": [
        "def reverse_string(input_string):\n",
        "  return input_string[::-1]"
      ],
      "metadata": {
        "id": "YP59OrW3V0c8"
      },
      "execution_count": null,
      "outputs": []
    },
    {
      "cell_type": "code",
      "source": [
        "reverse_string(\"pwskills\")"
      ],
      "metadata": {
        "colab": {
          "base_uri": "https://localhost:8080/",
          "height": 36
        },
        "id": "_lcxiZ3GV6Od",
        "outputId": "e2ddac9e-1b3b-4649-edc1-1b9e78e2465b"
      },
      "execution_count": null,
      "outputs": [
        {
          "output_type": "execute_result",
          "data": {
            "text/plain": [
              "'sllikswp'"
            ],
            "application/vnd.google.colaboratory.intrinsic+json": {
              "type": "string"
            }
          },
          "metadata": {},
          "execution_count": 31
        }
      ]
    },
    {
      "cell_type": "markdown",
      "source": [
        "3)  Implement a Python function that takes a list of integers and returns a new list containing the squares of\n",
        "each number."
      ],
      "metadata": {
        "id": "U0KJ89ZyWClU"
      }
    },
    {
      "cell_type": "code",
      "source": [
        "def squares_of_numbers(n):\n",
        "  result = []\n",
        "  for i in n:\n",
        "    result.append(i**2)\n",
        "  return result"
      ],
      "metadata": {
        "id": "f4JFTaf6V-7t"
      },
      "execution_count": null,
      "outputs": []
    },
    {
      "cell_type": "code",
      "source": [
        "squares_of_numbers([2,3,4,5])"
      ],
      "metadata": {
        "colab": {
          "base_uri": "https://localhost:8080/"
        },
        "id": "FnFyD7wUWS7d",
        "outputId": "ed87f0f6-a226-4489-91f2-6e152fcf91f1"
      },
      "execution_count": null,
      "outputs": [
        {
          "output_type": "execute_result",
          "data": {
            "text/plain": [
              "[4, 9, 16, 25]"
            ]
          },
          "metadata": {},
          "execution_count": 40
        }
      ]
    },
    {
      "cell_type": "markdown",
      "source": [
        "4) Write a Python function that checks if a given number is prime or not from 1 to 200."
      ],
      "metadata": {
        "id": "HX1KAT2eXCjs"
      }
    },
    {
      "cell_type": "code",
      "source": [
        "def is_prime(number):\n",
        "  if number <= 1:\n",
        "        return False\n",
        "  for i in range(2, int(number ** 0.5) + 1):\n",
        "        if number % i == 0:\n",
        "            return False\n",
        "  return True"
      ],
      "metadata": {
        "id": "-BY9AcfwXBBt"
      },
      "execution_count": null,
      "outputs": []
    },
    {
      "cell_type": "code",
      "source": [
        "is_prime(200)"
      ],
      "metadata": {
        "colab": {
          "base_uri": "https://localhost:8080/"
        },
        "id": "96mBs42zXiTt",
        "outputId": "2e8fa7c1-6808-414a-d0f1-54142d503311"
      },
      "execution_count": null,
      "outputs": [
        {
          "output_type": "execute_result",
          "data": {
            "text/plain": [
              "False"
            ]
          },
          "metadata": {},
          "execution_count": 42
        }
      ]
    },
    {
      "cell_type": "markdown",
      "source": [
        "5) Create an iterator class in Python that generates the Fibonacci sequence up to a specified number of\n",
        "terms"
      ],
      "metadata": {
        "id": "VnDfjoirXn8E"
      }
    },
    {
      "cell_type": "code",
      "source": [
        "class FibonacciIterator:\n",
        "  def __init__(self, terms):\n",
        "    self.terms = terms\n",
        "    self.a, self.b = 0, 1\n",
        "    self.count = 0\n",
        "    def __iter__(self):\n",
        "      return self\n",
        "      def __next__(self):\n",
        "        if self.count < self.terms:\n",
        "            result = self.a\n",
        "            self.a, self.b = self.b, self.a + self.b\n",
        "            self.count += 1\n",
        "            return result\n",
        "        else:\n",
        "          raise StopIteration"
      ],
      "metadata": {
        "id": "lyGUipwxXmc2"
      },
      "execution_count": null,
      "outputs": []
    },
    {
      "cell_type": "code",
      "source": [
        "FibonacciIterator(10)"
      ],
      "metadata": {
        "colab": {
          "base_uri": "https://localhost:8080/"
        },
        "id": "vttM_UMMYy0e",
        "outputId": "b747f452-9cec-45cf-d0e7-89addc0bdbfb"
      },
      "execution_count": null,
      "outputs": [
        {
          "output_type": "execute_result",
          "data": {
            "text/plain": [
              "<__main__.FibonacciIterator at 0x7d19b2ccb2d0>"
            ]
          },
          "metadata": {},
          "execution_count": 46
        }
      ]
    },
    {
      "cell_type": "markdown",
      "source": [
        "6) Write a generator function in Python that yields the powers of 2 up to a given exponent."
      ],
      "metadata": {
        "id": "oCgol8e7Y8Rc"
      }
    },
    {
      "cell_type": "code",
      "source": [
        "def powers_of_two(exponent):\n",
        "  for exp in range(exponent + 1):\n",
        "        yield 2 ** exp"
      ],
      "metadata": {
        "id": "HP-MgDAaY5M2"
      },
      "execution_count": null,
      "outputs": []
    },
    {
      "cell_type": "code",
      "source": [
        "powers_of_two(2)"
      ],
      "metadata": {
        "colab": {
          "base_uri": "https://localhost:8080/"
        },
        "id": "pbt7XQRZZLEM",
        "outputId": "7917cbcc-a5e5-4d8e-bf9a-645840a4f6ce"
      },
      "execution_count": null,
      "outputs": [
        {
          "output_type": "execute_result",
          "data": {
            "text/plain": [
              "<generator object powers_of_two at 0x7d19b2e49ee0>"
            ]
          },
          "metadata": {},
          "execution_count": 48
        }
      ]
    },
    {
      "cell_type": "markdown",
      "source": [
        "7) . Implement a generator function that reads a file line by line and yields each line as a string."
      ],
      "metadata": {
        "id": "egIrxOn1ZP22"
      }
    },
    {
      "cell_type": "code",
      "source": [
        "def read_file_line_by_line(file_path):\n",
        "    \"\"\"\n",
        "    A generator function that reads a file line by line and yields each line.\n",
        "\n",
        "    Parameters:\n",
        "    file_path (str): The path to the file to be read.\n",
        "    \"\"\"\n",
        "    with open(file_path, 'r') as file:\n",
        "        for line in file:\n",
        "            yield line.strip()"
      ],
      "metadata": {
        "id": "XkAlo_AsZNJl"
      },
      "execution_count": null,
      "outputs": []
    },
    {
      "cell_type": "code",
      "source": [
        "read_file_line_by_line('example.txt')"
      ],
      "metadata": {
        "colab": {
          "base_uri": "https://localhost:8080/"
        },
        "id": "_mkQL7snZeAe",
        "outputId": "f39caca4-b4a3-42bd-d4c5-2939726dd3af"
      },
      "execution_count": null,
      "outputs": [
        {
          "output_type": "execute_result",
          "data": {
            "text/plain": [
              "<generator object read_file_line_by_line at 0x7d19b2e92f20>"
            ]
          },
          "metadata": {},
          "execution_count": 52
        }
      ]
    },
    {
      "cell_type": "markdown",
      "source": [
        "8) Use a lambda function in Python to sort a list of tuples based on the second element of each tuple."
      ],
      "metadata": {
        "id": "U9vzBw6VZsZM"
      }
    },
    {
      "cell_type": "code",
      "source": [
        "tuples_list = [(1, 4), (3, 1), (5, 9), (2, 6)]\n",
        "sorted_list = sorted(tuples_list, key=lambda x: x[1])\n"
      ],
      "metadata": {
        "id": "y6OmOPTgabx9"
      },
      "execution_count": null,
      "outputs": []
    },
    {
      "cell_type": "code",
      "source": [
        "print(sorted_list)"
      ],
      "metadata": {
        "colab": {
          "base_uri": "https://localhost:8080/"
        },
        "id": "-TxTXLUGa028",
        "outputId": "2c24bb51-a8f4-40af-d066-df8223c1a8d6"
      },
      "execution_count": null,
      "outputs": [
        {
          "output_type": "stream",
          "name": "stdout",
          "text": [
            "[(3, 1), (1, 4), (2, 6), (5, 9)]\n"
          ]
        }
      ]
    },
    {
      "cell_type": "markdown",
      "source": [
        "9) Write a Python program that uses `map()` to convert a list of temperatures from Celsius to Fahrenheit."
      ],
      "metadata": {
        "id": "tnmt-ggwa5j8"
      }
    },
    {
      "cell_type": "code",
      "source": [
        "celsius_temps = [0, 10, 20, 30, 40, 50]\n",
        "def celsius_to_fahrenheit(celsius):\n",
        "    return (celsius * 9/5) + 32\n",
        "    fahrenheit_temps = map(celsius_to_fahrenheit, celsius_temps)\n"
      ],
      "metadata": {
        "id": "Nz4mcdY2a36u"
      },
      "execution_count": null,
      "outputs": []
    },
    {
      "cell_type": "markdown",
      "source": [
        "10) Create a Python program that uses `filter()` to remove all the vowels from a given string."
      ],
      "metadata": {
        "id": "tAi9H7TvbjZU"
      }
    },
    {
      "cell_type": "code",
      "source": [
        "def is_not_vowel(char):\n",
        "    return char.lower() not in 'aeiou'\n",
        "    input_string = \"Hello, World!\"\n",
        "    filtered_string = ''.join(filter(is_not_vowel, input_string))\n",
        "    print(filtered_string)"
      ],
      "metadata": {
        "id": "-DBhbohSbWmW"
      },
      "execution_count": null,
      "outputs": []
    },
    {
      "cell_type": "markdown",
      "source": [
        "11) Imagine an accounting routine used in a book shop. It works on a list with sublists, which look like this:\n",
        "\n",
        "\n",
        "\n",
        "\n",
        "\n",
        "\n",
        "\n",
        "Write a Python program, which returns a list with 2-tuples. Each tuple consists of the order number and the\n",
        "product of the price per item and the quantity. The product should be increased by 10,- € if the value of the\n",
        "order is smaller than 100,00 €.\n",
        "\n",
        "Write a Python program using lambda and map"
      ],
      "metadata": {
        "id": "ZHpnT1zYcGqU"
      }
    },
    {
      "cell_type": "code",
      "source": [
        "from functools import reduce\n",
        "orders = [ [\"34587\", \"Learning Python, Mark Lutz\", 4, 40.95],[\"98762\", \"Programming Python, Mark Lutz\", 5, 56.80],[\"77226\", \"Head First Python, Paul Barry\", 3,32.95],[\"88112\", \"Einführung in Python3, Bernd Klein\", \t3, 24.99]]\n",
        "invoice_totals = list(map(lambda x: x if x[1] >= min_order else (x[0], x[1] + 10),map(lambda x: (x[0],x[2] * x[3]), orders)))\n",
        "from functools import reduce\n",
        "orders = [ [1, (\"5464\", 4, 9.99), (\"8274\",18,12.99), (\"9744\", 9, 44.95)],[2, (\"5464\", 9, 9.99), (\"9744\", 9, 44.95)],[3, (\"5464\", 9, 9.99), (\"88112\", 11, 24.99)],[4, (\"8732\", 7, 11.99), (\"7733\",11,18.99), (\"88112\", 5, 39.95)] ]\n",
        "invoice = list(map(lambda k: k if k[1]>=100 else (k[0],k[1]+10),map(lambda x:(x[0],reduce(lambda a,b:a+b,list(map(lambda y:y[1]*y[2] ,x[1:])))),orders)))"
      ],
      "metadata": {
        "colab": {
          "base_uri": "https://localhost:8080/",
          "height": 141
        },
        "id": "rpKU2U4lcyTl",
        "outputId": "94ed49f3-7f8d-4fc2-d112-44b84113e717"
      },
      "execution_count": null,
      "outputs": [
        {
          "output_type": "error",
          "ename": "SyntaxError",
          "evalue": "invalid non-printable character U+00A0 (<ipython-input-73-6488bb752590>, line 2)",
          "traceback": [
            "\u001b[0;36m  File \u001b[0;32m\"<ipython-input-73-6488bb752590>\"\u001b[0;36m, line \u001b[0;32m2\u001b[0m\n\u001b[0;31m    orders = [ [\"34587\", \"Learning Python, Mark Lutz\", 4, 40.95],[\"98762\", \"Programming Python, Mark Lutz\", 5, 56.80],[\"77226\", \"Head First Python, Paul Barry\", 3,32.95],[\"88112\", \"Einführung in Python3, Bernd Klein\", \t3, 24.99]]\u001b[0m\n\u001b[0m                                                                                                                                                                                                                         ^\u001b[0m\n\u001b[0;31mSyntaxError\u001b[0m\u001b[0;31m:\u001b[0m invalid non-printable character U+00A0\n"
          ]
        }
      ]
    },
    {
      "cell_type": "code",
      "source": [],
      "metadata": {
        "id": "xxKXvRHIeON8"
      },
      "execution_count": null,
      "outputs": []
    }
  ]
}